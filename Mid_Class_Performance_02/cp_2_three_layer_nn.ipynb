import numpy as np
import matplotlib.pyplot as plt

np.random.seed(0)

#for XOR
X = np.array([[0, 0], [0, 1], [1, 0], [1, 1]])
Y = np.array([[0], [1], [1], [0]])


class NeuralNetwork(object):
    def __init__(self):
        inputLayerNeurons = 2 #layer 1
        hiddenLayer1Neurons = 10 #layer 2
        hiddenLayer2Neurons = 20  #layer 3
        outLayerNeurons = 1

        self.learning_rate = 0.2

      
        self.W_HI1 = np.random.randn(inputLayerNeurons, hiddenLayer1Neurons)

  
        self.W_IH2 = np.random.randn(hiddenLayer1Neurons, hiddenLayer2Neurons)

        self.W_OH2 = np.random.randn(hiddenLayer2Neurons, outLayerNeurons)

    def sigmoid(self, x, der=False):
        if der == True:
            return x * (1 - x)
        else:
            return 1 / (1 + np.exp(-x))

    def feedForward(self, X):
        hidden1_input = np.dot(X, self.W_HI1)
        self.hidden1_output = self.sigmoid(hidden1_input)

        hidden2_input = np.dot(self.hidden1_output, self.W_IH2)
        self.hidden2_output = self.sigmoid(hidden2_input)

        output_input = np.dot(self.hidden2_output, self.W_OH2)
        pred = self.sigmoid(output_input)
        return pred

    def backPropagation(self, X, Y, pred):
        output_error = Y - pred
        output_delta = self.learning_rate * output_error * self.sigmoid(pred, der=True)

        hidden2_error = output_delta.dot(self.W_OH2.T)
        hidden2_delta = self.learning_rate * hidden2_error * self.sigmoid(self.hidden2_output, der=True)

        hidden1_error = hidden2_delta.dot(self.W_IH2.T)
        hidden1_delta = self.learning_rate * hidden1_error * self.sigmoid(self.hidden1_output, der=True)

        self.W_HI1 += X.T.dot(hidden1_delta)
        self.W_IH2 += self.hidden1_output.T.dot(hidden2_delta)
        self.W_OH2 += self.hidden2_output.T.dot(output_delta)

    def train(self, X, Y):
        output = self.feedForward(X)
        self.backPropagation(X, Y, output)


NN = NeuralNetwork()

err = []
for i in range(10000):
    NN.train(X, Y)
    err.append(np.mean(np.square(Y - NN.feedForward(X))))

plt.plot(err)
