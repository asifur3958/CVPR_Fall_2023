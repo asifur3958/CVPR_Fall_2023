{
 "cells": [
  {
   "cell_type": "code",
   "execution_count": null,
   "metadata": {},
   "outputs": [],
   "source": [
    "import os\n",
    "import cv2\n",
    "\n",
    "\n",
    "root = r'C:\\Users\\asifur\\Desktop\\Fall23CVPR\\Mid\\train'\n",
    "class_folders = os.listdir(root)\n",
    "gray_image_data = []\n",
    "labels = []\n",
    "\n",
    "\n",
    "for class_folder in class_folders:\n",
    "    class_folder_path = os.path.join(root, class_folder)\n",
    "\n",
    "    if os.path.isdir(class_folder_path):\n",
    "        \n",
    "        for image_file in os.listdir(class_folder_path):\n",
    "            image_path = os.path.join(class_folder_path, image_file)\n",
    "            image = cv2.imread(image_path)\n",
    "            \n",
    "            if image is not None:\n",
    "                gray_image = cv2.cvtColor(image, cv2.COLOR_BGR2GRAY)\n",
    "                gray_image_data.append(gray_image)                \n",
    "                labels.append(class_folder)\n",
    "\n",
    "            else:\n",
    "                print(f\"Failed loading image: {image_path}\")"
   ]
  }
 ],
 "metadata": {
  "language_info": {
   "name": "python"
  }
 },
 "nbformat": 4,
 "nbformat_minor": 2
}
